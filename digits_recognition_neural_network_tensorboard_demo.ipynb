{
 "cells": [
  {
   "cell_type": "markdown",
   "metadata": {},
   "source": [
    "<h2 style=\"color:blue\" align=\"center\">Tensorboard demo using handwritten digits classification using neural network</h2>"
   ]
  },
  {
   "cell_type": "markdown",
   "metadata": {},
   "source": [
    "In this notebook we will classify handwritten digits using a simple neural network which has only input and output layers. We will than add a hidden layer and see how the performance of the model improves"
   ]
  },
  {
   "cell_type": "code",
   "execution_count": 1,
   "metadata": {},
   "outputs": [],
   "source": [
    "import tensorflow as tf\n",
    "from tensorflow import keras\n",
    "import matplotlib.pyplot as plt\n",
    "%matplotlib inline\n",
    "import numpy as np"
   ]
  },
  {
   "cell_type": "code",
   "execution_count": 2,
   "metadata": {},
   "outputs": [],
   "source": [
    "(X_train, y_train) , (X_test, y_test) = keras.datasets.mnist.load_data()"
   ]
  },
  {
   "cell_type": "code",
   "execution_count": 3,
   "metadata": {},
   "outputs": [
    {
     "data": {
      "text/plain": [
       "60000"
      ]
     },
     "execution_count": 3,
     "metadata": {},
     "output_type": "execute_result"
    }
   ],
   "source": [
    "len(X_train)"
   ]
  },
  {
   "cell_type": "code",
   "execution_count": 4,
   "metadata": {},
   "outputs": [
    {
     "data": {
      "text/plain": [
       "10000"
      ]
     },
     "execution_count": 4,
     "metadata": {},
     "output_type": "execute_result"
    }
   ],
   "source": [
    "len(X_test)"
   ]
  },
  {
   "cell_type": "code",
   "execution_count": 5,
   "metadata": {},
   "outputs": [
    {
     "data": {
      "text/plain": [
       "(28, 28)"
      ]
     },
     "execution_count": 5,
     "metadata": {},
     "output_type": "execute_result"
    }
   ],
   "source": [
    "X_train[0].shape"
   ]
  },
  {
   "cell_type": "code",
   "execution_count": 6,
   "metadata": {},
   "outputs": [
    {
     "data": {
      "text/plain": [
       "<matplotlib.image.AxesImage at 0x25cc6ad5e50>"
      ]
     },
     "execution_count": 6,
     "metadata": {},
     "output_type": "execute_result"
    },
    {
     "data": {
      "image/png": "[encoded data removed]",
      "text/plain": [
       "<Figure size 480x480 with 1 Axes>"
      ]
     },
     "metadata": {},
     "output_type": "display_data"
    }
   ],
   "source": [
    "plt.matshow(X_train[0])"
   ]
  },
  {
   "cell_type": "code",
   "execution_count": 7,
   "metadata": {},
   "outputs": [
    {
     "data": {
      "text/plain": [
       "5"
      ]
     },
     "execution_count": 7,
     "metadata": {},
     "output_type": "execute_result"
    }
   ],
   "source": [
    "y_train[0]"
   ]
  },
  {
   "cell_type": "code",
   "execution_count": 8,
   "metadata": {},
   "outputs": [],
   "source": [
    "X_train = X_train / 255\n",
    "X_test = X_test / 255"
   ]
  },
  {
   "cell_type": "code",
   "execution_count": 9,
   "metadata": {},
   "outputs": [],
   "source": [
    "X_train_flattened = X_train.reshape(len(X_train), 28*28)\n",
    "X_test_flattened = X_test.reshape(len(X_test), 28*28)"
   ]
  },
  {
   "cell_type": "code",
   "execution_count": 10,
   "metadata": {},
   "outputs": [
    {
     "data": {
      "text/plain": [
       "(60000, 784)"
      ]
     },
     "execution_count": 10,
     "metadata": {},
     "output_type": "execute_result"
    }
   ],
   "source": [
    "X_train_flattened.shape"
   ]
  },
  {
   "cell_type": "markdown",
   "metadata": {},
   "source": [
    "<h3 style='color:purple'>Using Flatten layer so that we don't have to call .reshape on input dataset</h3>"
   ]
  },
  {
   "cell_type": "code",
   "execution_count": 11,
   "metadata": {},
   "outputs": [
    {
     "name": "stderr",
     "output_type": "stream",
     "text": [
      "c:\\Users\\Vikas\\AppData\\Local\\Programs\\Python\\Python312\\Lib\\site-packages\\keras\\src\\layers\\reshaping\\flatten.py:37: UserWarning: Do not pass an `input_shape`/`input_dim` argument to a layer. When using Sequential models, prefer using an `Input(shape)` object as the first layer in the model instead.\n",
      "  super().__init__(**kwargs)\n"
     ]
    },
    {
     "name": "stdout",
     "output_type": "stream",
     "text": [
      "Epoch 1/5\n",
      "\u001b[1m1875/1875\u001b[0m \u001b[32m━━━━━━━━━━━━━━━━━━━━\u001b[0m\u001b[37m\u001b[0m \u001b[1m3s\u001b[0m 2ms/step - accuracy: 0.7427 - loss: 1.0190\n",
      "Epoch 2/5\n",
      "\u001b[1m1875/1875\u001b[0m \u001b[32m━━━━━━━━━━━━━━━━━━━━\u001b[0m\u001b[37m\u001b[0m \u001b[1m3s\u001b[0m 1ms/step - accuracy: 0.9009 - loss: 0.3546\n",
      "Epoch 3/5\n",
      "\u001b[1m1875/1875\u001b[0m \u001b[32m━━━━━━━━━━━━━━━━━━━━\u001b[0m\u001b[37m\u001b[0m \u001b[1m3s\u001b[0m 2ms/step - accuracy: 0.9161 - loss: 0.3004\n",
      "Epoch 4/5\n",
      "\u001b[1m1875/1875\u001b[0m \u001b[32m━━━━━━━━━━━━━━━━━━━━\u001b[0m\u001b[37m\u001b[0m \u001b[1m3s\u001b[0m 1ms/step - accuracy: 0.9248 - loss: 0.2674\n",
      "Epoch 5/5\n",
      "\u001b[1m1875/1875\u001b[0m \u001b[32m━━━━━━━━━━━━━━━━━━━━\u001b[0m\u001b[37m\u001b[0m \u001b[1m3s\u001b[0m 2ms/step - accuracy: 0.9315 - loss: 0.2404\n"
     ]
    },
    {
     "data": {
      "text/plain": [
       "<keras.src.callbacks.history.History at 0x25cf3fa56d0>"
      ]
     },
     "execution_count": 11,
     "metadata": {},
     "output_type": "execute_result"
    }
   ],
   "source": [
    "model = keras.Sequential([\n",
    "    keras.layers.Flatten(input_shape=(28, 28)),\n",
    "    keras.layers.Dense(100, activation='relu'),\n",
    "    keras.layers.Dense(10, activation='sigmoid')\n",
    "])\n",
    "\n",
    "model.compile(optimizer='SGD',\n",
    "              loss='sparse_categorical_crossentropy',\n",
    "              metrics=['accuracy'])\n",
    "\n",
    "tb_callback = tf.keras.callbacks.TensorBoard(log_dir=\"logs/SGD\", histogram_freq=1)\n",
    "\n",
    "model.fit(X_train, y_train, epochs=5, callbacks=[tb_callback])"
   ]
  },
  {
   "cell_type": "code",
   "execution_count": 12,
   "metadata": {
    "scrolled": false
   },
   "outputs": [
    {
     "name": "stdout",
     "output_type": "stream",
     "text": [
      "Epoch 1/5\n",
      "\u001b[1m1875/1875\u001b[0m \u001b[32m━━━━━━━━━━━━━━━━━━━━\u001b[0m\u001b[37m\u001b[0m \u001b[1m5s\u001b[0m 2ms/step - accuracy: 0.8730 - loss: 0.4463\n",
      "Epoch 2/5\n",
      "\u001b[1m1875/1875\u001b[0m \u001b[32m━━━━━━━━━━━━━━━━━━━━\u001b[0m\u001b[37m\u001b[0m \u001b[1m5s\u001b[0m 3ms/step - accuracy: 0.9613 - loss: 0.1312\n",
      "Epoch 3/5\n",
      "\u001b[1m1875/1875\u001b[0m \u001b[32m━━━━━━━━━━━━━━━━━━━━\u001b[0m\u001b[37m\u001b[0m \u001b[1m3s\u001b[0m 1ms/step - accuracy: 0.9738 - loss: 0.0870\n",
      "Epoch 4/5\n",
      "\u001b[1m1875/1875\u001b[0m \u001b[32m━━━━━━━━━━━━━━━━━━━━\u001b[0m\u001b[37m\u001b[0m \u001b[1m3s\u001b[0m 2ms/step - accuracy: 0.9810 - loss: 0.0631\n",
      "Epoch 5/5\n",
      "\u001b[1m1875/1875\u001b[0m \u001b[32m━━━━━━━━━━━━━━━━━━━━\u001b[0m\u001b[37m\u001b[0m \u001b[1m3s\u001b[0m 2ms/step - accuracy: 0.9855 - loss: 0.0483\n"
     ]
    },
    {
     "data": {
      "text/plain": [
       "<keras.src.callbacks.history.History at 0x25cf0ab5460>"
      ]
     },
     "execution_count": 12,
     "metadata": {},
     "output_type": "execute_result"
    }
   ],
   "source": [
    "model = keras.Sequential([\n",
    "    keras.layers.Flatten(input_shape=(28, 28)),\n",
    "    keras.layers.Dense(100, activation='relu'),\n",
    "    keras.layers.Dense(10, activation='sigmoid')\n",
    "])\n",
    "\n",
    "model.compile(optimizer='adam',\n",
    "              loss='sparse_categorical_crossentropy',\n",
    "              metrics=['accuracy'])\n",
    "\n",
    "tb_callback = tf.keras.callbacks.TensorBoard(log_dir=\"logs/ADAM\", histogram_freq=1)\n",
    "\n",
    "model.fit(X_train, y_train, epochs=5, callbacks=[tb_callback])"
   ]
  },
  {
   "cell_type": "code",
   "execution_count": 13,
   "metadata": {},
   "outputs": [],
   "source": [
    "# %load_ext tensorboard\n",
    "# %tensorboard --logdir logs/fit"
   ]
  },
  {
   "cell_type": "markdown",
   "metadata": {},
   "source": [
    "Either run above inline magic or go to git bash or your command prompt and type below to run it,\n",
    "`tensorboard --logdir logs/`\n",
    "This will launch tensorboard at this url which you can open in your browser `http://localhost:6006/`"
   ]
  },
  {
   "cell_type": "code",
   "execution_count": 14,
   "metadata": {},
   "outputs": [
    {
     "data": {
      "text/plain": [
       "[array([[-0.01721869,  0.05649944,  0.02840196, ..., -0.02251384,\n",
       "          0.06861447,  0.04546542],\n",
       "        [-0.01607627, -0.00550975, -0.0725221 , ..., -0.04691648,\n",
       "         -0.04014189, -0.04966754],\n",
       "        [ 0.0033313 , -0.0808952 ,  0.05011526, ...,  0.06194875,\n",
       "         -0.00425   , -0.0624293 ],\n",
       "        ...,\n",
       "        [ 0.06145953, -0.00699841,  0.01713034, ...,  0.01047741,\n",
       "         -0.00679466,  0.02288319],\n",
       "        [-0.06202027,  0.0309222 , -0.07185522, ...,  0.06318927,\n",
       "         -0.01191459, -0.03324918],\n",
       "        [-0.0651553 , -0.05998935, -0.03118913, ...,  0.05912729,\n",
       "          0.05734859, -0.0701681 ]], dtype=float32),\n",
       " array([-0.05818549, -0.06888396,  0.09732297,  0.1348323 ,  0.19586337,\n",
       "         0.07212023,  0.00148314,  0.05421178,  0.05720807,  0.07360298,\n",
       "         0.11751349,  0.02521189,  0.04235221, -0.02370165, -0.07075325,\n",
       "         0.09305533,  0.12442772,  0.02537302, -0.07052854, -0.15500548,\n",
       "         0.02374911,  0.04519045,  0.24103434,  0.14208089,  0.03919684,\n",
       "         0.08062752,  0.00749775,  0.03731559,  0.00760676, -0.09664731,\n",
       "        -0.03591089,  0.12893793,  0.15932614,  0.11082358, -0.08573874,\n",
       "         0.09096336,  0.27621856, -0.1073505 , -0.04115874, -0.17534165,\n",
       "         0.09906511, -0.07443513,  0.12367408,  0.03795618,  0.11807863,\n",
       "         0.00830185,  0.03405086, -0.00165872, -0.09961731, -0.15178491,\n",
       "        -0.12326533,  0.14708968,  0.06833596, -0.01072556, -0.04361174,\n",
       "        -0.05448921,  0.00146344,  0.13474183, -0.01263813,  0.05061202,\n",
       "        -0.08532467,  0.01214141, -0.0439068 ,  0.04377122,  0.03429588,\n",
       "         0.16409752,  0.1783184 ,  0.01379053,  0.07854252,  0.01845099,\n",
       "        -0.01752169,  0.09523451,  0.11961932,  0.10562164,  0.00074799,\n",
       "         0.1272594 ,  0.02710711,  0.11042846, -0.00910577,  0.04535784,\n",
       "         0.0392874 ,  0.0279627 ,  0.14341004, -0.07745603, -0.11267718,\n",
       "         0.09615574,  0.07272857,  0.05161038,  0.02081164,  0.09578336,\n",
       "        -0.07538456,  0.05748533, -0.12894887, -0.01691289, -0.01482744,\n",
       "         0.12504938,  0.05051866,  0.09606151,  0.08524988, -0.15999384],\n",
       "       dtype=float32),\n",
       " array([[ 2.48187572e-01,  2.23492339e-01,  3.28481011e-02,\n",
       "          9.13745016e-02, -5.39767146e-01,  5.36561087e-02,\n",
       "          2.52385855e-01, -6.73384592e-02,  9.08013359e-02,\n",
       "          1.18328117e-01],\n",
       "        [ 2.08195642e-01, -4.63383645e-02,  2.32121855e-01,\n",
       "         -3.21566790e-01,  2.04798996e-01, -3.22089851e-01,\n",
       "         -2.89078295e-01, -1.21433392e-01, -2.23119602e-01,\n",
       "          2.82479256e-01],\n",
       "        [ 1.01298213e-01,  5.39904118e-01, -2.03475386e-01,\n",
       "         -1.75416619e-01,  1.59073576e-01, -4.79849070e-01,\n",
       "          2.87198931e-01,  5.63025594e-01, -5.00131547e-01,\n",
       "         -1.99639246e-01],\n",
       "        [-7.17989206e-01, -1.08823903e-01, -7.68517479e-02,\n",
       "         -1.42655969e-01, -7.14224875e-01,  7.66981006e-01,\n",
       "         -2.61297673e-01,  1.00991875e-01, -2.16189072e-01,\n",
       "          6.09892234e-02],\n",
       "        [-4.35346246e-01, -3.58235121e-01,  2.30979294e-01,\n",
       "         -2.22139433e-01,  1.18575431e-01, -1.24443896e-01,\n",
       "          1.89304218e-01,  2.50925750e-01, -4.40344185e-01,\n",
       "         -1.42258210e-02],\n",
       "        [-1.83960229e-01, -1.95142522e-01, -2.40540117e-01,\n",
       "         -2.13591978e-01, -2.16332108e-01,  1.59130216e-01,\n",
       "         -3.82574439e-01, -9.67144743e-02,  1.84643224e-01,\n",
       "         -3.29642883e-03],\n",
       "        [-3.10610324e-01, -1.76024556e-01,  2.63251752e-01,\n",
       "          5.94006591e-02, -1.46326497e-01,  3.82374823e-01,\n",
       "         -2.42934614e-01,  5.09976208e-01, -3.99568081e-01,\n",
       "         -6.89853251e-01],\n",
       "        [ 1.21951416e-01, -2.00438842e-01,  1.00054704e-01,\n",
       "         -5.79269946e-01,  3.33765030e-01, -9.46034789e-02,\n",
       "         -1.73308671e-01,  2.37716466e-01, -5.34673631e-01,\n",
       "          2.00433210e-01],\n",
       "        [-2.91584551e-01,  3.07273597e-01,  2.03137204e-01,\n",
       "         -1.11338913e-01,  3.46664906e-01, -1.68705568e-01,\n",
       "         -5.26865385e-02, -3.29762697e-01,  9.00862440e-02,\n",
       "         -4.73648041e-01],\n",
       "        [ 2.40562521e-02,  3.00633669e-01, -5.24057686e-01,\n",
       "         -2.75950819e-01,  1.52707100e-01,  2.39745870e-01,\n",
       "          4.64631170e-01, -2.03305423e-01, -1.10708065e-01,\n",
       "          8.07611868e-02],\n",
       "        [ 3.39627683e-01,  2.41700590e-01, -2.53882915e-01,\n",
       "         -3.35974514e-01, -5.43760099e-02, -2.37926871e-01,\n",
       "          4.01746817e-02,  7.83062935e-01,  2.12340560e-02,\n",
       "         -8.10919523e-01],\n",
       "        [ 4.77946969e-03, -1.23782195e-01, -4.13382709e-01,\n",
       "          3.15343052e-01,  1.66982293e-01,  2.24673465e-01,\n",
       "         -2.13721506e-02,  5.80968075e-02, -1.19621061e-01,\n",
       "         -3.32661755e-02],\n",
       "        [-7.09652722e-01,  1.31851584e-01, -6.18836462e-01,\n",
       "          4.20959920e-01, -7.33501092e-02,  4.93094891e-01,\n",
       "         -4.93453652e-01, -5.60122788e-01, -5.34198403e-01,\n",
       "          5.43365896e-01],\n",
       "        [ 2.43162125e-01, -5.04822493e-01, -2.29052901e-02,\n",
       "         -3.95238623e-02, -1.59459844e-01, -1.49282023e-01,\n",
       "         -3.18323746e-02,  1.89778462e-01,  6.02067709e-02,\n",
       "          1.09047890e-01],\n",
       "        [ 1.65239960e-01, -1.54752910e-01,  3.53791863e-01,\n",
       "          4.27415550e-01, -6.73296392e-01, -2.24622175e-01,\n",
       "         -5.13012648e-01,  1.76292822e-01, -3.44106227e-01,\n",
       "         -3.53873223e-01],\n",
       "        [-3.19557101e-01, -2.55970247e-02,  2.25225352e-02,\n",
       "         -8.05599764e-02,  6.23432100e-02,  1.82437431e-02,\n",
       "          1.26227900e-01, -4.98833120e-01,  1.90834165e-01,\n",
       "         -8.59577805e-02],\n",
       "        [ 1.89538911e-01,  1.38624050e-02,  2.76273191e-01,\n",
       "         -3.85797352e-01, -2.86654413e-01,  1.63947955e-01,\n",
       "          3.61624688e-01, -2.83245653e-01, -1.62453994e-01,\n",
       "         -3.69581908e-01],\n",
       "        [-1.06561609e-01, -2.99603313e-01,  8.05053562e-02,\n",
       "          1.80111125e-01,  3.15071225e-01,  5.22339791e-02,\n",
       "         -2.77441859e-01,  1.87377825e-01,  2.42770135e-01,\n",
       "         -5.82472719e-02],\n",
       "        [ 1.28803998e-01, -6.64543435e-02,  3.44202161e-01,\n",
       "          9.87394750e-02, -3.07605326e-01,  2.00344115e-01,\n",
       "         -1.92908779e-01, -4.66498762e-01,  1.92674562e-01,\n",
       "          6.00148167e-04],\n",
       "        [ 2.49852285e-01,  8.17767754e-02,  2.69813418e-01,\n",
       "          1.13342531e-01, -1.46417901e-01, -1.97178528e-01,\n",
       "          1.15683980e-01, -2.02732146e-01, -4.05772686e-01,\n",
       "          2.77270406e-01],\n",
       "        [ 3.49140227e-01, -3.50719750e-01,  1.53319448e-01,\n",
       "          1.19539529e-01, -6.96918964e-01,  1.88898295e-01,\n",
       "         -9.99925733e-02, -1.04919493e-01, -8.29888321e-03,\n",
       "         -2.53061533e-01],\n",
       "        [ 9.55076590e-02,  3.40520918e-01,  6.83439896e-02,\n",
       "         -2.22668260e-01, -5.62930703e-01,  5.08792639e-01,\n",
       "         -4.23245937e-01,  1.39183387e-01, -2.04802826e-01,\n",
       "         -1.35752752e-01],\n",
       "        [-1.49773890e-02,  2.49265045e-01, -9.78058994e-01,\n",
       "         -3.77090782e-01, -1.54601082e-01,  3.92242372e-01,\n",
       "          1.69919372e-01,  1.29910111e-01, -2.85720110e-01,\n",
       "          2.75825024e-01],\n",
       "        [ 2.36771956e-01,  4.82230842e-01,  1.66247129e-01,\n",
       "          4.82347049e-02, -6.71410501e-01,  2.84850091e-01,\n",
       "          6.76471591e-02,  3.11287910e-01, -5.04009545e-01,\n",
       "         -1.72202453e-01],\n",
       "        [ 2.80602068e-01, -1.11380719e-01,  1.68212324e-01,\n",
       "         -9.70762521e-02, -1.62281767e-01, -3.15145291e-02,\n",
       "          2.35025331e-01, -3.24778229e-01,  2.43584201e-01,\n",
       "         -3.47403586e-01],\n",
       "        [-2.99702555e-01,  1.30504686e-02, -9.79592130e-02,\n",
       "          3.00659955e-01,  3.68651748e-02, -6.73167884e-01,\n",
       "          5.57428122e-01,  2.71442950e-01, -4.91829157e-01,\n",
       "          1.66890904e-01],\n",
       "        [-7.65058473e-02,  3.06324482e-01,  2.37945393e-01,\n",
       "          2.77575672e-01, -8.06777358e-01,  3.16417456e-01,\n",
       "         -1.16537929e-01,  1.80816606e-01, -1.81588784e-01,\n",
       "         -3.67922187e-01],\n",
       "        [ 2.38209605e-01, -9.32484400e-03,  2.06858978e-01,\n",
       "          9.64491442e-02, -7.61712313e-01,  2.51740932e-01,\n",
       "          8.49964991e-02, -6.58793449e-02,  5.79814017e-02,\n",
       "         -2.50939131e-01],\n",
       "        [-3.28785360e-01,  2.94065893e-01,  3.63743901e-01,\n",
       "         -3.79056871e-01,  5.06165586e-02, -1.64472282e-01,\n",
       "         -2.36513585e-01,  3.34789932e-01,  3.72011960e-01,\n",
       "         -6.97489500e-01],\n",
       "        [-4.62826103e-01,  1.89182013e-01, -2.05680020e-02,\n",
       "          2.81721771e-01, -2.67411023e-02, -1.79331005e-01,\n",
       "         -6.55533791e-01, -1.59393102e-01,  1.39699742e-01,\n",
       "          1.21064350e-01],\n",
       "        [ 4.13060039e-02, -3.99724215e-01, -4.04863626e-01,\n",
       "          3.94604385e-01, -2.06059784e-01,  2.02181503e-01,\n",
       "         -2.70530373e-01, -3.12497675e-01,  2.55448353e-02,\n",
       "         -1.32680442e-02],\n",
       "        [-1.49915144e-01, -3.36409330e-01,  3.12341988e-01,\n",
       "         -2.57909030e-01,  6.90779164e-02, -4.97736670e-02,\n",
       "          6.12706505e-02, -4.69964772e-01,  6.32053241e-04,\n",
       "         -2.41229266e-01],\n",
       "        [ 1.60821736e-01, -4.23738629e-01, -5.12662649e-01,\n",
       "         -7.70012848e-03, -2.98998386e-01,  3.72616082e-01,\n",
       "         -7.33137727e-02,  4.22642142e-01, -6.87464327e-02,\n",
       "          2.18739342e-02],\n",
       "        [ 2.59030998e-01, -2.69195616e-01,  1.95294350e-01,\n",
       "         -2.36993179e-01, -2.25531176e-01,  4.86110970e-02,\n",
       "         -9.54029709e-02, -6.77904859e-02, -5.18888831e-01,\n",
       "         -7.67608657e-02],\n",
       "        [ 2.49880299e-01, -2.91356534e-01,  2.71765113e-01,\n",
       "         -1.86322495e-01,  4.03594226e-02, -6.81918144e-01,\n",
       "         -4.32552919e-02,  2.37534985e-01,  2.74228215e-01,\n",
       "          1.57945469e-01],\n",
       "        [-4.22688514e-01,  3.82359885e-02,  6.23416528e-03,\n",
       "          1.62189543e-01,  1.23504549e-01,  4.27063555e-02,\n",
       "          3.88748385e-02, -1.41334563e-01,  1.87274829e-01,\n",
       "         -7.95742720e-02],\n",
       "        [-7.49211311e-01, -1.91521198e-01, -1.68583333e-01,\n",
       "         -1.97223127e-01,  3.27877760e-01,  4.28679526e-01,\n",
       "         -6.76745355e-01, -1.63398602e-03, -3.18365872e-01,\n",
       "          1.25009373e-01],\n",
       "        [ 1.12590805e-01, -2.58872390e-01,  5.91500849e-03,\n",
       "         -8.13143402e-02, -5.60068905e-01, -2.35536709e-01,\n",
       "         -2.38971755e-01, -4.00776327e-01,  1.24387138e-01,\n",
       "          4.89813983e-02],\n",
       "        [-4.55256820e-01,  3.16134214e-01,  1.15282096e-01,\n",
       "          1.30225196e-01, -6.30067647e-01,  3.81349176e-01,\n",
       "         -1.26280725e-01, -1.20746337e-01, -6.99185133e-02,\n",
       "          2.69164681e-01],\n",
       "        [-4.74556983e-02,  3.78107168e-02,  1.49388239e-01,\n",
       "          1.55891061e-01, -2.93862402e-01, -3.27904195e-01,\n",
       "         -1.80697113e-01, -3.15099955e-01,  8.08511227e-02,\n",
       "          1.04430608e-01],\n",
       "        [-1.58786684e-01,  2.81334996e-01,  5.90015650e-02,\n",
       "         -5.47237456e-01,  2.96636254e-01,  1.37861907e-01,\n",
       "          2.56167233e-01,  8.11192021e-02,  1.59130558e-01,\n",
       "         -4.91852701e-01],\n",
       "        [-1.50894031e-01,  2.90087134e-01,  4.18048769e-01,\n",
       "         -2.91875064e-01,  4.24581051e-01, -6.20228827e-01,\n",
       "         -2.35232860e-01,  3.42021137e-01,  7.50102699e-02,\n",
       "          8.78410265e-02],\n",
       "        [ 2.01550052e-02, -7.85277545e-01, -5.11211231e-02,\n",
       "         -4.73955274e-01,  1.72014087e-01,  1.41236112e-01,\n",
       "          1.65788636e-01,  5.53272255e-02,  3.14763129e-01,\n",
       "         -2.38098532e-01],\n",
       "        [ 3.75053706e-03,  7.72377431e-01, -5.22591233e-01,\n",
       "         -6.35733962e-01,  2.30445206e-01, -1.05144896e-01,\n",
       "         -3.80892366e-01, -2.96425790e-01, -1.99887753e-02,\n",
       "          2.45908603e-01],\n",
       "        [ 1.24092355e-01,  1.68569237e-01, -4.91402030e-01,\n",
       "         -6.02093756e-01,  1.19332828e-01,  3.70495677e-01,\n",
       "          3.97097319e-02, -2.87542015e-01, -6.36967123e-02,\n",
       "         -2.49316879e-02],\n",
       "        [-2.01263838e-02, -1.43737420e-01, -9.51804295e-02,\n",
       "         -9.43781063e-02,  1.64284334e-01, -1.93141490e-01,\n",
       "         -3.42889786e-01,  4.13402729e-02,  1.63799822e-01,\n",
       "          9.24526528e-02],\n",
       "        [-2.84390152e-01, -1.00665931e-02,  4.29755896e-01,\n",
       "         -5.34289293e-02, -1.15224861e-01,  1.45507399e-02,\n",
       "         -1.66084826e-01,  4.34112251e-01, -6.61626756e-01,\n",
       "         -5.33522427e-01],\n",
       "        [-3.74462783e-01,  8.06476995e-02,  4.12213624e-01,\n",
       "         -5.50163612e-02, -9.16579291e-02, -3.81711304e-01,\n",
       "          3.75371128e-01,  5.00468135e-01, -6.65886879e-01,\n",
       "         -6.65565133e-01],\n",
       "        [-8.41053128e-02,  4.20151800e-02,  1.89872012e-01,\n",
       "          2.00522035e-01,  1.30361587e-01, -5.56982040e-01,\n",
       "          2.00360571e-03, -6.37703612e-02,  1.48520827e-01,\n",
       "          1.84897542e-01],\n",
       "        [-1.84419155e-01,  4.99285430e-01,  1.94645822e-01,\n",
       "         -1.25819817e-02,  6.46975189e-02, -7.73150027e-01,\n",
       "         -1.89182714e-01,  1.13518000e-01, -2.22442567e-01,\n",
       "          1.39206305e-01],\n",
       "        [ 1.31433725e-01,  1.81988463e-01, -3.79262775e-01,\n",
       "         -9.18723792e-02,  4.05708641e-01, -5.27329266e-01,\n",
       "         -1.43209904e-01,  4.21884120e-01, -1.77216694e-01,\n",
       "          1.28519833e-01],\n",
       "        [-2.61188686e-01, -1.67068467e-01, -4.67534304e-01,\n",
       "          7.84634203e-02,  2.27532685e-01,  2.14168400e-01,\n",
       "          2.56674856e-01, -1.44269899e-01,  1.18869863e-01,\n",
       "          8.99706408e-02],\n",
       "        [-5.78136696e-03, -3.82046729e-01, -1.66821182e-01,\n",
       "         -9.19153839e-02,  1.61852315e-01, -1.87851295e-01,\n",
       "          1.76482409e-01, -8.20027962e-02,  1.69722289e-01,\n",
       "          1.67899638e-01],\n",
       "        [ 1.84592396e-01, -2.30065927e-01,  1.61484912e-01,\n",
       "          1.79599538e-01,  1.39372319e-01,  1.19314313e-01,\n",
       "          8.35501477e-02, -1.57047451e-01,  1.26186073e-01,\n",
       "          1.70554698e-01],\n",
       "        [ 1.33866727e-01, -2.58620292e-01,  1.82152852e-01,\n",
       "          1.12368964e-01,  2.74862766e-01, -8.43938664e-02,\n",
       "          1.21269412e-01, -1.74409434e-01, -3.08205048e-03,\n",
       "          1.16088860e-01],\n",
       "        [-4.08188641e-01,  2.46895254e-01,  2.39022210e-01,\n",
       "          1.93547443e-01, -3.25490274e-02,  1.64124548e-01,\n",
       "         -3.58778208e-01,  3.53121310e-01,  9.05093402e-02,\n",
       "         -9.55668926e-01],\n",
       "        [ 6.77561164e-02, -5.24432063e-01,  1.55549377e-01,\n",
       "         -1.83680370e-01, -4.07660514e-01, -2.80321687e-01,\n",
       "         -1.98447421e-01,  1.76682666e-01, -5.50679378e-02,\n",
       "          2.18442440e-01],\n",
       "        [-2.06258550e-01, -2.34469231e-02, -1.05617922e-02,\n",
       "         -1.83991969e-01,  2.47937158e-01,  5.22032119e-02,\n",
       "         -6.21847272e-01,  1.69316947e-01,  9.15235877e-02,\n",
       "          1.37723461e-01],\n",
       "        [ 2.51230955e-01, -2.51432627e-01,  2.63666123e-01,\n",
       "          4.24102455e-01, -9.71008539e-01, -2.43430331e-01,\n",
       "         -2.42996886e-01,  1.63862586e-01, -4.30255800e-01,\n",
       "         -1.20902330e-01],\n",
       "        [-4.15583879e-01,  1.86889976e-01,  2.64342248e-01,\n",
       "         -3.62498313e-01, -4.56878275e-01,  3.01206261e-01,\n",
       "          2.80841053e-01,  2.43336745e-02,  2.08067089e-01,\n",
       "          1.03582442e-01],\n",
       "        [-2.44102597e-01,  1.55731589e-01,  1.82377905e-01,\n",
       "          2.95503922e-02, -1.77775010e-01, -5.11074185e-01,\n",
       "         -2.43649289e-01,  1.94157571e-01,  4.49326672e-02,\n",
       "         -9.98237580e-02],\n",
       "        [-1.35059997e-01, -3.82054269e-01, -2.16544315e-01,\n",
       "         -9.13962796e-02, -3.41393538e-02, -1.66695848e-01,\n",
       "          1.01278864e-01,  1.08858094e-01,  4.05570418e-02,\n",
       "          1.52168557e-01],\n",
       "        [ 1.35370493e-01,  1.14967875e-01, -1.87033758e-01,\n",
       "          1.84947580e-01,  2.14745194e-01, -6.93009943e-02,\n",
       "          1.88240662e-01, -9.28497463e-02,  1.99585378e-01,\n",
       "         -7.29481801e-02],\n",
       "        [-3.50866914e-01, -2.42925927e-01,  6.33485168e-02,\n",
       "          3.37507635e-01,  1.20452635e-01, -8.74902308e-02,\n",
       "         -3.38360630e-02,  1.81099728e-01,  8.50455090e-02,\n",
       "         -5.37677184e-02],\n",
       "        [ 1.58106312e-01, -4.65926200e-01, -2.24275887e-01,\n",
       "          3.21913771e-02,  1.63043827e-01, -4.48168516e-02,\n",
       "         -1.03451729e-01,  5.35066351e-02, -3.51123698e-02,\n",
       "          1.49177670e-01],\n",
       "        [-1.97443143e-01, -4.72816288e-01,  2.30089854e-02,\n",
       "          5.70775419e-02,  2.49933586e-01,  2.45068356e-01,\n",
       "          3.35263163e-01, -4.32249367e-01, -4.08455193e-01,\n",
       "         -5.70495911e-02],\n",
       "        [-2.14138895e-01, -2.05465574e-02, -9.32721570e-02,\n",
       "          2.37944201e-02, -5.20436326e-03,  2.32195128e-02,\n",
       "          6.66825473e-02, -2.95789540e-01,  7.37031102e-02,\n",
       "         -2.85728753e-01],\n",
       "        [-2.25138828e-01,  2.64884472e-01,  5.01635313e-01,\n",
       "         -3.09194416e-01, -1.29921198e-01, -5.85434854e-01,\n",
       "         -1.50776252e-01,  1.91130847e-01,  5.10507822e-01,\n",
       "         -2.82643884e-01],\n",
       "        [ 1.63380563e-01, -1.71626557e-03, -7.92106330e-01,\n",
       "         -1.17581032e-01,  3.59651834e-01, -2.90546089e-01,\n",
       "          3.30714852e-01,  3.51159670e-03, -4.24913138e-01,\n",
       "         -4.14597541e-01],\n",
       "        [ 4.69134115e-02,  4.65644419e-01, -3.04270089e-01,\n",
       "          8.14134106e-02,  6.28174305e-01, -4.18936521e-01,\n",
       "         -3.77246499e-01, -2.95420028e-02, -4.00859684e-01,\n",
       "         -4.13308650e-01],\n",
       "        [ 7.41123110e-02, -5.81523657e-01, -1.81690857e-01,\n",
       "          2.52239972e-01, -3.11854482e-01,  2.06981361e-01,\n",
       "         -3.05786967e-01,  8.61303136e-02,  7.40226284e-02,\n",
       "         -1.77743342e-02],\n",
       "        [-9.22765136e-02,  3.82120222e-01,  1.32050574e-01,\n",
       "         -5.31695247e-01,  2.18448088e-01,  2.09158093e-01,\n",
       "         -2.15670511e-01,  3.74315143e-01, -4.31321740e-01,\n",
       "          9.59798172e-02],\n",
       "        [-8.99967551e-02,  4.85828787e-01,  2.98523039e-01,\n",
       "         -1.00057006e-01, -1.43369615e-01,  1.80804744e-01,\n",
       "         -6.62017643e-01, -1.09675355e-01, -7.81942129e-01,\n",
       "          3.76212060e-01],\n",
       "        [ 7.92768225e-03,  8.11607301e-01,  1.79337978e-01,\n",
       "         -1.55626506e-01,  5.97451150e-01, -1.12875417e-01,\n",
       "         -2.10743114e-01, -5.22925138e-01, -4.03128147e-01,\n",
       "         -4.55043823e-01],\n",
       "        [-2.70815253e-01, -3.93877029e-02, -1.66111991e-01,\n",
       "          2.55458206e-01, -1.66039109e-01,  2.58576241e-03,\n",
       "         -4.11986351e-01, -2.82462742e-02,  1.38485461e-01,\n",
       "          1.97483540e-01],\n",
       "        [ 9.80118439e-02,  9.79834348e-02,  1.61181986e-01,\n",
       "          2.77082503e-01, -5.02571702e-01,  4.29833740e-01,\n",
       "          3.30736697e-01, -6.06567681e-01, -6.96768761e-02,\n",
       "         -7.57260919e-01],\n",
       "        [-1.26540884e-01,  3.29996377e-01, -4.28176634e-02,\n",
       "         -2.75305629e-01, -1.35725215e-01, -5.07046998e-01,\n",
       "          1.12665929e-01, -4.17987078e-01,  2.77713656e-01,\n",
       "          4.31536406e-01],\n",
       "        [-1.01695985e-01, -4.50332582e-01, -5.73359728e-01,\n",
       "         -3.98855418e-01,  2.36928120e-01,  4.23866391e-01,\n",
       "          4.31175381e-02, -6.97332621e-02,  1.46065235e-01,\n",
       "          1.54171467e-01],\n",
       "        [-9.10261869e-02, -1.56701535e-01,  3.38899672e-01,\n",
       "          4.73791540e-01,  5.01792282e-02, -8.67621481e-01,\n",
       "         -7.88113892e-01, -1.41391650e-01, -1.57755986e-01,\n",
       "         -3.61159742e-02],\n",
       "        [ 2.05250949e-01, -3.37159067e-01,  1.48711307e-02,\n",
       "         -3.20874830e-03, -7.07106709e-01,  2.04416662e-01,\n",
       "          3.79111581e-02, -2.94495791e-01,  2.59469539e-01,\n",
       "         -1.87258750e-01],\n",
       "        [-9.50172022e-02, -1.05966985e-01,  1.61879659e-01,\n",
       "         -9.04408768e-02,  1.61532983e-01, -4.44164388e-02,\n",
       "         -1.15134723e-01,  3.65324505e-03,  1.62232950e-01,\n",
       "          5.07557802e-02],\n",
       "        [-7.07120523e-02, -2.91981753e-02,  4.17795897e-01,\n",
       "         -1.53003991e-01,  1.06757991e-01, -4.45791245e-01,\n",
       "         -4.26030904e-01,  3.16101462e-01, -1.71745390e-01,\n",
       "          2.72325277e-01],\n",
       "        [ 1.35293424e-01, -1.53510749e-01,  3.53397846e-01,\n",
       "         -1.34934455e-01,  2.39972636e-01,  1.81748480e-01,\n",
       "         -4.01604921e-01,  1.66252777e-01, -2.14494035e-01,\n",
       "          2.10379183e-01],\n",
       "        [ 3.71912658e-01, -4.70218211e-02, -1.59764245e-01,\n",
       "         -1.40664786e-01,  1.57822445e-01, -2.11492166e-01,\n",
       "         -3.22230756e-01,  2.86948830e-01, -6.02863193e-01,\n",
       "          2.02259079e-01],\n",
       "        [ 2.04265550e-01,  7.69690275e-02,  1.06064759e-01,\n",
       "          9.43060592e-02, -6.05811417e-01, -3.04213494e-01,\n",
       "         -1.08295389e-01, -1.52227372e-01,  1.03027582e-01,\n",
       "          2.33351082e-01],\n",
       "        [-3.21906418e-01, -1.71110556e-01, -7.88820088e-01,\n",
       "          2.72253901e-01,  2.60987878e-01,  3.56652886e-02,\n",
       "         -3.11530888e-01,  4.82558720e-02,  2.15006560e-01,\n",
       "          1.90320805e-01],\n",
       "        [-3.47068489e-01,  2.88802922e-01,  2.29763061e-01,\n",
       "          2.31957361e-01, -1.64915875e-01,  2.90973306e-01,\n",
       "          1.46224499e-01, -4.74076211e-01,  3.50503474e-01,\n",
       "         -2.45194703e-01],\n",
       "        [-6.93083882e-01,  5.06802797e-01, -1.61338463e-01,\n",
       "          3.24321359e-01,  3.03458959e-01, -2.10086003e-01,\n",
       "          1.07705668e-01,  2.41424441e-01, -3.85974199e-01,\n",
       "         -4.94531006e-01],\n",
       "        [-1.48906320e-01, -8.19866002e-01, -7.97622055e-02,\n",
       "          4.28038836e-01, -1.72967374e-01, -1.91455036e-01,\n",
       "          2.80236900e-01,  9.16924328e-02, -2.73302257e-01,\n",
       "          1.96556926e-01],\n",
       "        [-4.81491070e-03,  2.53682613e-01,  3.03801954e-01,\n",
       "          6.34012967e-02,  5.54381132e-01,  1.20207913e-01,\n",
       "         -3.57747786e-02,  1.30099431e-01, -4.35857117e-01,\n",
       "         -5.05867183e-01],\n",
       "        [ 8.08290765e-02,  1.47063613e-01, -3.04948419e-01,\n",
       "         -1.61780491e-02,  5.45924390e-03, -1.10179856e-01,\n",
       "          3.05466622e-01, -6.44600531e-03, -4.90881465e-02,\n",
       "         -7.30333745e-01],\n",
       "        [-1.30983636e-01, -5.11916816e-01, -2.46967494e-01,\n",
       "          3.10858279e-01, -2.57871449e-01,  2.12673485e-01,\n",
       "         -7.72332907e-01,  1.48687527e-01, -2.37585917e-01,\n",
       "          2.68702835e-01],\n",
       "        [ 2.93253064e-01,  1.88888639e-01,  2.09259778e-01,\n",
       "          2.43473694e-01, -1.86681658e-01, -3.96085888e-01,\n",
       "          2.38252208e-01, -4.44076389e-01, -2.75235206e-01,\n",
       "          6.19127648e-03],\n",
       "        [-3.00052911e-01, -2.17300773e-01, -4.10579443e-02,\n",
       "         -2.82292604e-03, -7.86945581e-01,  4.50246304e-01,\n",
       "          3.84787232e-01, -3.40292513e-01,  2.33160675e-01,\n",
       "         -4.35638316e-02],\n",
       "        [-7.13762462e-01,  1.79201126e-01, -3.26757938e-01,\n",
       "          1.91597462e-01, -3.73656452e-02,  1.29547894e-01,\n",
       "         -4.62735206e-01, -5.29901423e-02,  4.56015812e-03,\n",
       "          1.33509606e-01],\n",
       "        [ 1.11181349e-01, -2.92173088e-01, -8.82893801e-02,\n",
       "         -2.14116111e-01,  2.80445088e-02, -2.18869001e-02,\n",
       "          1.13345869e-01,  2.19701052e-01,  2.95556307e-01,\n",
       "         -1.53955519e-01],\n",
       "        [-7.07233371e-03,  1.10784888e-01,  1.42324805e-01,\n",
       "         -2.01110899e-01, -9.42787230e-02, -1.40033349e-01,\n",
       "          1.86849266e-01, -4.19260114e-01,  1.22820571e-01,\n",
       "         -6.06360361e-02],\n",
       "        [-7.24217445e-02, -3.28031987e-01, -2.23234892e-01,\n",
       "         -1.80760905e-01,  1.10571653e-01, -7.74504393e-02,\n",
       "          1.74669519e-01, -1.50638342e-01,  1.37682408e-01,\n",
       "          2.17393935e-01],\n",
       "        [ 1.01335585e-01,  4.24239561e-02, -2.69457787e-01,\n",
       "         -1.39917955e-02, -3.77783149e-01,  1.22460186e-01,\n",
       "          9.17634442e-02, -2.14567974e-01,  1.89419603e-03,\n",
       "          8.37614089e-02],\n",
       "        [ 2.29052514e-01,  6.70185313e-02,  1.52269349e-01,\n",
       "          1.85158208e-01, -6.01322353e-01, -2.33194545e-01,\n",
       "         -3.45181346e-01,  2.41398439e-01,  1.50053754e-01,\n",
       "         -1.29095495e-01]], dtype=float32),\n",
       " array([-0.15529308, -0.07196708, -0.03199033, -0.09990811,  0.08595379,\n",
       "         0.1228044 ,  0.01180394, -0.04109213,  0.11980883, -0.01458864],\n",
       "       dtype=float32)]"
      ]
     },
     "execution_count": 14,
     "metadata": {},
     "output_type": "execute_result"
    }
   ],
   "source": [
    "model.get_weights()"
   ]
  }
 ],
 "metadata": {
  "kernelspec": {
   "display_name": "Python 3",
   "language": "python",
   "name": "python3"
  },
  "language_info": {
   "codemirror_mode": {
    "name": "ipython",
    "version": 3
   },
   "file_extension": ".py",
   "mimetype": "text/x-python",
   "name": "python",
   "nbconvert_exporter": "python",
   "pygments_lexer": "ipython3",
   "version": "3.12.5"
  }
 },
 "nbformat": 4,
 "nbformat_minor": 4
}
